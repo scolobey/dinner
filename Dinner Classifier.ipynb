{
 "cells": [
  {
   "cell_type": "code",
   "execution_count": 1,
   "metadata": {
    "collapsed": true
   },
   "outputs": [],
   "source": [
    "%matplotlib inline"
   ]
  },
  {
   "cell_type": "code",
   "execution_count": 2,
   "metadata": {
    "collapsed": false
   },
   "outputs": [],
   "source": [
    "import numpy as np\n",
    "import tensorflow as tf\n",
    "import matplotlib.pyplot as plt\n",
    "import time\n",
    "import rec_parse"
   ]
  },
  {
   "cell_type": "markdown",
   "metadata": {},
   "source": [
    "# Collect Data\n",
    "To obtain data, a recipe is parsed to identify dictionary matches. Each dictionary entry corresponds to an index in recipe space. So, each recipe is represented as a vector in recipe space of dimension 4060. Beginnning with a set of 15768 recipe vectors. 10% of those vectors, at equal intervals are reserved as test data. The result should be 4 matrices, trainX representing 14191 recipe vectors, trainY representing binary labels for each of those recipes, testX representing 1577 recipe vectors on which to test, and testY reresenting labels for the test data. For the label matrices, a 1 in column 0 represents 'dinner', while a 1 in column 1 represents 'non-dinner'.\n",
    "\n",
    "A simple improvement here would be to calculate labels before splitting the data."
   ]
  },
  {
   "cell_type": "code",
   "execution_count": 3,
   "metadata": {
    "collapsed": false
   },
   "outputs": [
    {
     "name": "stdout",
     "output_type": "stream",
     "text": [
      "Your data is ready.\n",
      "trainX shape = (14191, 4060)\n",
      "trainY shape = (14191, 2)\n",
      "testX shape = (1577, 4060)\n",
      "testY shape = (1577, 2)\n"
     ]
    }
   ],
   "source": [
    "data = rec_parse.parse_recipes()\n",
    "trainX, testX = rec_parse.split(data)\n",
    "\n",
    "trainY = np.zeros((len(data)-1577, 2), dtype=np.int)\n",
    "testY = np.zeros([1577, 2], dtype=np.int)\n",
    "\n",
    "for ind, row in enumerate(trainY):\n",
    "    if ind > 1500:\n",
    "        trainY[ind][1] = 1\n",
    "    else:\n",
    "        trainY[ind][0] = 1\n",
    "\n",
    "for ind, row in enumerate(testY):\n",
    "    if ind > 150:\n",
    "        testY[ind][1] = 1\n",
    "    else:\n",
    "        testY[ind][0] = 1\n",
    "        \n",
    "print(\"Your data is ready.\")\n",
    "print(\"trainX shape =\", trainX.shape)\n",
    "print(\"trainY shape =\", trainY.shape)\n",
    "print(\"testX shape =\", testX.shape)\n",
    "print(\"testY shape =\", testY.shape)"
   ]
  },
  {
   "cell_type": "markdown",
   "metadata": {},
   "source": [
    "# Initialize graph features"
   ]
  },
  {
   "cell_type": "code",
   "execution_count": 4,
   "metadata": {
    "collapsed": true
   },
   "outputs": [],
   "source": [
    "numFeatures = trainX.shape[1]\n",
    "numLabels = trainY.shape[1]\n",
    "\n",
    "numEpochs = 500\n",
    "\n",
    "tf.reset_default_graph()\n",
    "\n",
    "learningRate = tf.train.exponential_decay(learning_rate=0.0008,\n",
    "                                          global_step= 1,\n",
    "                                          decay_steps=trainX.shape[0],\n",
    "                                          decay_rate= 0.95,\n",
    "                                          staircase=True)\n",
    "\n",
    "X = tf.placeholder(tf.float32, [None, numFeatures])\n",
    "yGold = tf.placeholder(tf.float32, [None, numLabels])"
   ]
  },
  {
   "cell_type": "markdown",
   "metadata": {},
   "source": [
    "# Initialize variables"
   ]
  },
  {
   "cell_type": "code",
   "execution_count": 5,
   "metadata": {
    "collapsed": false
   },
   "outputs": [
    {
     "name": "stdout",
     "output_type": "stream",
     "text": [
      "Tensor(\"Variable/read:0\", shape=(4060, 2), dtype=float32)\n",
      "Tensor(\"Variable_1/read:0\", shape=(1, 2), dtype=float32)\n"
     ]
    }
   ],
   "source": [
    "weights = tf.Variable(tf.random_normal([numFeatures,numLabels],\n",
    "                                       mean=0,\n",
    "                                       stddev=(np.sqrt(6/numFeatures+\n",
    "                                                         numLabels+1)),\n",
    "                                       name=\"weights\"))\n",
    "\n",
    "bias = tf.Variable(tf.random_normal([1,numLabels],\n",
    "                                    mean=0,\n",
    "                                    stddev=(np.sqrt(6/numFeatures+numLabels+1)),\n",
    "                                    name=\"bias\"))\n",
    "\n",
    "init_OP = tf.global_variables_initializer()\n",
    "\n",
    "for i in tf.global_variables():\n",
    "    print(i)  \n"
   ]
  },
  {
   "cell_type": "markdown",
   "metadata": {},
   "source": [
    "# The algorithm\n",
    "Multiply trainX(14191, 4060) by weights(4060, 2), resulting in apply_weights_OP(14191, 2).\n",
    "And add the bias(1, 2), resulting in add_bias_OP(14191, 2)\n",
    "\n",
    "Activate using rectified linear:\n",
    "f(x) = max(0, x)\n",
    "\n",
    "Calculate loss using Mean Squared Error:\n",
    "$\\frac{1}{n}\\sum_{i=0}^n ({y}_{estimated}-{y}_{real})^2$\n",
    "\n",
    "Optimize using gradient descent."
   ]
  },
  {
   "cell_type": "code",
   "execution_count": 6,
   "metadata": {
    "collapsed": true
   },
   "outputs": [],
   "source": [
    "# FEEDFORWARD ALGORITHM\n",
    "apply_weights_OP = tf.matmul(X, weights, name=\"apply_weights\")\n",
    "add_bias_OP = tf.add(apply_weights_OP, bias, name=\"add_bias\")\n",
    "activation_OP = tf.nn.sigmoid(add_bias_OP, name=\"activation\")\n",
    "\n",
    "# COST FUNCTION i.e. MEAN SQUARED ERROR\n",
    "cost_OP = tf.nn.l2_loss(activation_OP-yGold, name=\"squared_error_cost\")\n",
    "\n",
    "# OPTIMIZATION ALGORITHM i.e. GRADIENT DESCENT\n",
    "training_OP = tf.train.GradientDescentOptimizer(learningRate).minimize(cost_OP)\n"
   ]
  },
  {
   "cell_type": "markdown",
   "metadata": {},
   "source": [
    "#  Run training"
   ]
  },
  {
   "cell_type": "code",
   "execution_count": 7,
   "metadata": {
    "collapsed": false
   },
   "outputs": [
    {
     "name": "stdout",
     "output_type": "stream",
     "text": [
      "step 0, training accuracy 0.687337\n",
      "step 0, cost 5002.46\n",
      "step 0, change in cost 5002.46\n",
      "step 10, training accuracy 0.880558\n",
      "step 10, cost 1980.17\n",
      "step 10, change in cost 3022.29\n",
      "step 20, training accuracy 0.887887\n",
      "step 20, cost 1778.98\n",
      "step 20, change in cost 201.188\n",
      "step 30, training accuracy 0.889578\n",
      "step 30, cost 1707.82\n",
      "step 30, change in cost 71.1562\n",
      "step 40, training accuracy 0.891199\n",
      "step 40, cost 1660.72\n",
      "step 40, change in cost 47.1041\n",
      "step 50, training accuracy 0.89141\n",
      "step 50, cost 1628.3\n",
      "step 50, change in cost 32.4224\n",
      "step 60, training accuracy 0.891974\n",
      "step 60, cost 1609.25\n",
      "step 60, change in cost 19.0468\n",
      "step 70, training accuracy 0.892185\n",
      "step 70, cost 1595.61\n",
      "step 70, change in cost 13.6392\n",
      "step 80, training accuracy 0.892397\n",
      "step 80, cost 1584.95\n",
      "step 80, change in cost 10.663\n",
      "step 90, training accuracy 0.892608\n",
      "step 90, cost 1576.52\n",
      "step 90, change in cost 8.43079\n",
      "step 100, training accuracy 0.892678\n",
      "step 100, cost 1570.17\n",
      "step 100, change in cost 6.35193\n",
      "step 110, training accuracy 0.89289\n",
      "step 110, cost 1565.21\n",
      "step 110, change in cost 4.95374\n",
      "step 120, training accuracy 0.89289\n",
      "step 120, cost 1561.02\n",
      "step 120, change in cost 4.19202\n",
      "step 130, training accuracy 0.893031\n",
      "step 130, cost 1557.3\n",
      "step 130, change in cost 3.71606\n",
      "step 140, training accuracy 0.893101\n",
      "step 140, cost 1553.93\n",
      "step 140, change in cost 3.37427\n",
      "step 150, training accuracy 0.893101\n",
      "step 150, cost 1550.89\n",
      "step 150, change in cost 3.03662\n",
      "step 160, training accuracy 0.893242\n",
      "step 160, cost 1548.24\n",
      "step 160, change in cost 2.65637\n",
      "step 170, training accuracy 0.893313\n",
      "step 170, cost 1545.95\n",
      "step 170, change in cost 2.28918\n",
      "step 180, training accuracy 0.893313\n",
      "step 180, cost 1543.96\n",
      "step 180, change in cost 1.98389\n",
      "step 190, training accuracy 0.893383\n",
      "step 190, cost 1542.23\n",
      "step 190, change in cost 1.73816\n",
      "step 200, training accuracy 0.893383\n",
      "step 200, cost 1540.67\n",
      "step 200, change in cost 1.55786\n",
      "step 210, training accuracy 0.893454\n",
      "step 210, cost 1539.23\n",
      "step 210, change in cost 1.44287\n",
      "step 220, training accuracy 0.893524\n",
      "step 220, cost 1537.86\n",
      "step 220, change in cost 1.36438\n",
      "step 230, training accuracy 0.893524\n",
      "step 230, cost 1536.57\n",
      "step 230, change in cost 1.29431\n",
      "step 240, training accuracy 0.893524\n",
      "step 240, cost 1535.33\n",
      "step 240, change in cost 1.23535\n",
      "step 250, training accuracy 0.893595\n",
      "step 250, cost 1534.14\n",
      "step 250, change in cost 1.19568\n",
      "step 260, training accuracy 0.893665\n",
      "step 260, cost 1532.96\n",
      "step 260, change in cost 1.17896\n",
      "step 270, training accuracy 0.893665\n",
      "step 270, cost 1531.77\n",
      "step 270, change in cost 1.18909\n",
      "step 280, training accuracy 0.893665\n",
      "step 280, cost 1530.55\n",
      "step 280, change in cost 1.22095\n",
      "step 290, training accuracy 0.893665\n",
      "step 290, cost 1529.28\n",
      "step 290, change in cost 1.26233\n",
      "step 300, training accuracy 0.893735\n",
      "step 300, cost 1528.01\n",
      "step 300, change in cost 1.27161\n",
      "step 310, training accuracy 0.893735\n",
      "step 310, cost 1526.8\n",
      "step 310, change in cost 1.21094\n",
      "step 320, training accuracy 0.893735\n",
      "step 320, cost 1525.69\n",
      "step 320, change in cost 1.1084\n",
      "step 330, training accuracy 0.893735\n",
      "step 330, cost 1524.69\n",
      "step 330, change in cost 0.999756\n",
      "step 340, training accuracy 0.893806\n",
      "step 340, cost 1523.78\n",
      "step 340, change in cost 0.909546\n",
      "step 350, training accuracy 0.893806\n",
      "step 350, cost 1522.93\n",
      "step 350, change in cost 0.849854\n",
      "step 360, training accuracy 0.893806\n",
      "step 360, cost 1522.12\n",
      "step 360, change in cost 0.816284\n",
      "step 370, training accuracy 0.893806\n",
      "step 370, cost 1521.32\n",
      "step 370, change in cost 0.792847\n",
      "step 380, training accuracy 0.893806\n",
      "step 380, cost 1520.57\n",
      "step 380, change in cost 0.759033\n",
      "step 390, training accuracy 0.893806\n",
      "step 390, cost 1519.86\n",
      "step 390, change in cost 0.705933\n",
      "step 400, training accuracy 0.893876\n",
      "step 400, cost 1519.21\n",
      "step 400, change in cost 0.653198\n",
      "step 410, training accuracy 0.893876\n",
      "step 410, cost 1518.6\n",
      "step 410, change in cost 0.607544\n",
      "step 420, training accuracy 0.893876\n",
      "step 420, cost 1518.03\n",
      "step 420, change in cost 0.565308\n",
      "step 430, training accuracy 0.893876\n",
      "step 430, cost 1517.51\n",
      "step 430, change in cost 0.527344\n",
      "step 440, training accuracy 0.893876\n",
      "step 440, cost 1517\n",
      "step 440, change in cost 0.502686\n",
      "step 450, training accuracy 0.893876\n",
      "step 450, cost 1516.51\n",
      "step 450, change in cost 0.494629\n",
      "step 460, training accuracy 0.893876\n",
      "step 460, cost 1516\n",
      "step 460, change in cost 0.512451\n",
      "step 470, training accuracy 0.893947\n",
      "step 470, cost 1515.44\n",
      "step 470, change in cost 0.557861\n",
      "step 480, training accuracy 0.893947\n",
      "step 480, cost 1514.87\n",
      "step 480, change in cost 0.565918\n",
      "step 490, training accuracy 0.893947\n",
      "step 490, cost 1514.4\n",
      "step 490, change in cost 0.476196\n",
      "final accuracy on test set: 0.904249\n"
     ]
    },
    {
     "data": {
      "image/png": "[encoded data removed]",
      "text/plain": [
       "<matplotlib.figure.Figure at 0x110c5bf28>"
      ]
     },
     "metadata": {},
     "output_type": "display_data"
    }
   ],
   "source": [
    "# Training epochs\n",
    "with tf.Session() as sess:\n",
    "    sess.run(init_OP)\n",
    "\n",
    "    ###########################\n",
    "    ### GRAPH LIVE UPDATING ###\n",
    "    ###########################\n",
    "\n",
    "    epoch_values=[]\n",
    "    accuracy_values=[]\n",
    "    cost_values=[]\n",
    "    \n",
    "    # Turn on interactive plotting\n",
    "    plt.ion()\n",
    "    # Create the main, super plot\n",
    "    fig = plt.figure()\n",
    "    # Create two subplots on their own axes and give titles\n",
    "    ax1 = plt.subplot(\"211\")\n",
    "    ax1.set_title(\"TRAINING ACCURACY\", fontsize=10)\n",
    "    ax2 = plt.subplot(\"212\")\n",
    "    ax2.set_title(\"TRAINING COST\", fontsize=10)\n",
    "    plt.tight_layout()\n",
    "\n",
    "\n",
    "    #####################\n",
    "    ### RUN THE GRAPH ###\n",
    "    #####################\n",
    "\n",
    "    ## Ops for vizualization\n",
    "    # argmax(activation_OP, 1) gives the label our model thought was most likely\n",
    "    # argmax(yGold, 1) is the correct label\n",
    "    correct_predictions_OP = tf.equal(tf.argmax(activation_OP,1),tf.argmax(yGold,1))\n",
    "    # False is 0 and True is 1, what was our average?\n",
    "    accuracy_OP = tf.reduce_mean(tf.cast(correct_predictions_OP, \"float\"))\n",
    "    # Summary op for regression output\n",
    "    activation_summary_OP = tf.summary.histogram(\"output\", activation_OP)\n",
    "    # Summary op for accuracy\n",
    "    accuracy_summary_OP = tf.summary.scalar(\"accuracy\", accuracy_OP)\n",
    "    # Summary op for cost\n",
    "    cost_summary_OP = tf.summary.scalar(\"cost\", cost_OP)\n",
    "    # Summary ops to check how variables (W, b) are updating after each iteration\n",
    "    weightSummary = tf.summary.histogram(\"weights\", weights.eval(session=sess))\n",
    "    biasSummary = tf.summary.histogram(\"biases\", bias.eval(session=sess))\n",
    "    # Merge all summaries\n",
    "    all_summary_OPS = tf.summary.merge_all()\n",
    "    # Summary writer\n",
    "    writer = tf.summary.FileWriter(\"summary_logs\", sess.graph)\n",
    "\n",
    "    # Initialize reporting variables\n",
    "    cost = 0\n",
    "    diff = 1\n",
    "\n",
    "    for i in range(numEpochs): \n",
    "        if i > 1 and diff < .0001:\n",
    "            print(\"change in cost %g; convergence.\"%diff)\n",
    "            break\n",
    "        else:\n",
    "            # Run training step\n",
    "            step = sess.run(training_OP, feed_dict={X: trainX, yGold: trainY})\n",
    "            \n",
    "            # Report occasional stats\n",
    "            if i % 10 == 0:\n",
    "                # Add epoch to epoch_values\n",
    "                epoch_values.append(i)\n",
    "                # Generate accuracy stats on test data\n",
    "                summary_results, train_accuracy, newCost = sess.run(\n",
    "                    [all_summary_OPS, accuracy_OP, cost_OP],\n",
    "                    feed_dict={X: trainX, yGold: trainY}\n",
    "                )\n",
    "                # Add accuracy to live graphing variable\n",
    "                accuracy_values.append(train_accuracy)\n",
    "                # Add cost to live graphing variable\n",
    "                cost_values.append(newCost)\n",
    "                # Write summary stats to writer\n",
    "                writer.add_summary(summary_results, i)\n",
    "                # Re-assign values for variables\n",
    "                diff = abs(newCost - cost)\n",
    "                cost = newCost\n",
    "\n",
    "                #generate print statements\n",
    "                print(\"step %d, training accuracy %g\"%(i, train_accuracy))\n",
    "                print(\"step %d, cost %g\"%(i, newCost))\n",
    "                print(\"step %d, change in cost %g\"%(i, diff))\n",
    "\n",
    "                # Plot progress to our two subplots\n",
    "                accuracyLine, = ax1.plot(epoch_values, accuracy_values)\n",
    "                costLine, = ax2.plot(epoch_values, cost_values)\n",
    "                fig.canvas.draw()\n",
    "                time.sleep(1)\n",
    "    \n",
    "    # Create Saver\n",
    "    saver = tf.train.Saver()   \n",
    "    saver.save(sess, '/tmp/dinner-model')\n",
    "\n",
    "    # How well do we perform on held-out test data?\n",
    "    print(\"final accuracy on test set: %s\" %str(sess.run(accuracy_OP,\n",
    "                                                         feed_dict={X: testX,\n",
    "                                                                    yGold: testY})))"
   ]
  },
  {
   "cell_type": "markdown",
   "metadata": {},
   "source": [
    "# Import new set\n",
    "Now we'll bring in the 100 most recent recipes published to Cookpad and return those which are identified by the algorithm as 'dinner'so that we can subject them to human analysis. "
   ]
  },
  {
   "cell_type": "code",
   "execution_count": 8,
   "metadata": {
    "collapsed": false
   },
   "outputs": [
    {
     "name": "stdout",
     "output_type": "stream",
     "text": [
      "data shape = (1001, 4060)\n"
     ]
    }
   ],
   "source": [
    "data = rec_parse.parse_newest_recipes() \n",
    "print(\"data shape =\", data.shape)"
   ]
  },
  {
   "cell_type": "code",
   "execution_count": 9,
   "metadata": {
    "collapsed": false
   },
   "outputs": [
    {
     "name": "stdout",
     "output_type": "stream",
     "text": [
      "Model restored.\n",
      "[  1.04353713e-11   1.00000000e+00]\n",
      "72 0.999886\n",
      "76 0.800014\n",
      "146 0.999475\n",
      "314 0.998206\n",
      "554 0.956514\n"
     ]
    }
   ],
   "source": [
    "with tf.Session() as lolo:\n",
    "    saver.restore(lolo, '/tmp/dinner-model')\n",
    "    print(\"Model restored.\")\n",
    "    \n",
    "    predictions = lolo.run(activation_OP, feed_dict={X: data})\n",
    "    print(predictions[0])\n",
    "    for index, i in enumerate(predictions):\n",
    "        if i[0] > .8:\n",
    "            print(index, i[0])"
   ]
  }
 ],
 "metadata": {
  "kernelspec": {
   "display_name": "Python [Root]",
   "language": "python",
   "name": "Python [Root]"
  },
  "language_info": {
   "codemirror_mode": {
    "name": "ipython",
    "version": 3
   },
   "file_extension": ".py",
   "mimetype": "text/x-python",
   "name": "python",
   "nbconvert_exporter": "python",
   "pygments_lexer": "ipython3",
   "version": "3.5.2"
  }
 },
 "nbformat": 4,
 "nbformat_minor": 0
}
